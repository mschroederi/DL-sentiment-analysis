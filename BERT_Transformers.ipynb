{
  "nbformat": 4,
  "nbformat_minor": 0,
  "metadata": {
    "colab": {
      "name": "BERT-Transformers.ipynb",
      "provenance": [],
      "collapsed_sections": []
    },
    "kernelspec": {
      "name": "python3",
      "display_name": "Python 3"
    },
    "accelerator": "GPU",
    "widgets": {
      "application/vnd.jupyter.widget-state+json": {
        "3497ff700a0f4bcab4b3b46b382b0683": {
          "model_module": "@jupyter-widgets/controls",
          "model_name": "HBoxModel",
          "state": {
            "_view_name": "HBoxView",
            "_dom_classes": [],
            "_model_name": "HBoxModel",
            "_view_module": "@jupyter-widgets/controls",
            "_model_module_version": "1.5.0",
            "_view_count": null,
            "_view_module_version": "1.5.0",
            "box_style": "",
            "layout": "IPY_MODEL_08976efde3cc4ed9bfae4d327fb47adf",
            "_model_module": "@jupyter-widgets/controls",
            "children": [
              "IPY_MODEL_d76afde05baf4ae3a2be981f2b9c8f30",
              "IPY_MODEL_baf541f71c5d448e86df58180934da3f"
            ]
          }
        },
        "08976efde3cc4ed9bfae4d327fb47adf": {
          "model_module": "@jupyter-widgets/base",
          "model_name": "LayoutModel",
          "state": {
            "_view_name": "LayoutView",
            "grid_template_rows": null,
            "right": null,
            "justify_content": null,
            "_view_module": "@jupyter-widgets/base",
            "overflow": null,
            "_model_module_version": "1.2.0",
            "_view_count": null,
            "flex_flow": null,
            "width": null,
            "min_width": null,
            "border": null,
            "align_items": null,
            "bottom": null,
            "_model_module": "@jupyter-widgets/base",
            "top": null,
            "grid_column": null,
            "overflow_y": null,
            "overflow_x": null,
            "grid_auto_flow": null,
            "grid_area": null,
            "grid_template_columns": null,
            "flex": null,
            "_model_name": "LayoutModel",
            "justify_items": null,
            "grid_row": null,
            "max_height": null,
            "align_content": null,
            "visibility": null,
            "align_self": null,
            "height": null,
            "min_height": null,
            "padding": null,
            "grid_auto_rows": null,
            "grid_gap": null,
            "max_width": null,
            "order": null,
            "_view_module_version": "1.2.0",
            "grid_template_areas": null,
            "object_position": null,
            "object_fit": null,
            "grid_auto_columns": null,
            "margin": null,
            "display": null,
            "left": null
          }
        },
        "d76afde05baf4ae3a2be981f2b9c8f30": {
          "model_module": "@jupyter-widgets/controls",
          "model_name": "FloatProgressModel",
          "state": {
            "_view_name": "ProgressView",
            "style": "IPY_MODEL_67475dfccd3a4e399c0bcbf89c4512d3",
            "_dom_classes": [],
            "description": "Downloading: 100%",
            "_model_name": "FloatProgressModel",
            "bar_style": "success",
            "max": 231508,
            "_view_module": "@jupyter-widgets/controls",
            "_model_module_version": "1.5.0",
            "value": 231508,
            "_view_count": null,
            "_view_module_version": "1.5.0",
            "orientation": "horizontal",
            "min": 0,
            "description_tooltip": null,
            "_model_module": "@jupyter-widgets/controls",
            "layout": "IPY_MODEL_17433f0bd6234efa89f9c57fcfdad947"
          }
        },
        "baf541f71c5d448e86df58180934da3f": {
          "model_module": "@jupyter-widgets/controls",
          "model_name": "HTMLModel",
          "state": {
            "_view_name": "HTMLView",
            "style": "IPY_MODEL_862905dcca894d34bbdb7e2b9e1d655e",
            "_dom_classes": [],
            "description": "",
            "_model_name": "HTMLModel",
            "placeholder": "​",
            "_view_module": "@jupyter-widgets/controls",
            "_model_module_version": "1.5.0",
            "value": " 232k/232k [00:00&lt;00:00, 936kB/s]",
            "_view_count": null,
            "_view_module_version": "1.5.0",
            "description_tooltip": null,
            "_model_module": "@jupyter-widgets/controls",
            "layout": "IPY_MODEL_6d9d38aafc644d5ab64664af1b9772ef"
          }
        },
        "67475dfccd3a4e399c0bcbf89c4512d3": {
          "model_module": "@jupyter-widgets/controls",
          "model_name": "ProgressStyleModel",
          "state": {
            "_view_name": "StyleView",
            "_model_name": "ProgressStyleModel",
            "description_width": "initial",
            "_view_module": "@jupyter-widgets/base",
            "_model_module_version": "1.5.0",
            "_view_count": null,
            "_view_module_version": "1.2.0",
            "bar_color": null,
            "_model_module": "@jupyter-widgets/controls"
          }
        },
        "17433f0bd6234efa89f9c57fcfdad947": {
          "model_module": "@jupyter-widgets/base",
          "model_name": "LayoutModel",
          "state": {
            "_view_name": "LayoutView",
            "grid_template_rows": null,
            "right": null,
            "justify_content": null,
            "_view_module": "@jupyter-widgets/base",
            "overflow": null,
            "_model_module_version": "1.2.0",
            "_view_count": null,
            "flex_flow": null,
            "width": null,
            "min_width": null,
            "border": null,
            "align_items": null,
            "bottom": null,
            "_model_module": "@jupyter-widgets/base",
            "top": null,
            "grid_column": null,
            "overflow_y": null,
            "overflow_x": null,
            "grid_auto_flow": null,
            "grid_area": null,
            "grid_template_columns": null,
            "flex": null,
            "_model_name": "LayoutModel",
            "justify_items": null,
            "grid_row": null,
            "max_height": null,
            "align_content": null,
            "visibility": null,
            "align_self": null,
            "height": null,
            "min_height": null,
            "padding": null,
            "grid_auto_rows": null,
            "grid_gap": null,
            "max_width": null,
            "order": null,
            "_view_module_version": "1.2.0",
            "grid_template_areas": null,
            "object_position": null,
            "object_fit": null,
            "grid_auto_columns": null,
            "margin": null,
            "display": null,
            "left": null
          }
        },
        "862905dcca894d34bbdb7e2b9e1d655e": {
          "model_module": "@jupyter-widgets/controls",
          "model_name": "DescriptionStyleModel",
          "state": {
            "_view_name": "StyleView",
            "_model_name": "DescriptionStyleModel",
            "description_width": "",
            "_view_module": "@jupyter-widgets/base",
            "_model_module_version": "1.5.0",
            "_view_count": null,
            "_view_module_version": "1.2.0",
            "_model_module": "@jupyter-widgets/controls"
          }
        },
        "6d9d38aafc644d5ab64664af1b9772ef": {
          "model_module": "@jupyter-widgets/base",
          "model_name": "LayoutModel",
          "state": {
            "_view_name": "LayoutView",
            "grid_template_rows": null,
            "right": null,
            "justify_content": null,
            "_view_module": "@jupyter-widgets/base",
            "overflow": null,
            "_model_module_version": "1.2.0",
            "_view_count": null,
            "flex_flow": null,
            "width": null,
            "min_width": null,
            "border": null,
            "align_items": null,
            "bottom": null,
            "_model_module": "@jupyter-widgets/base",
            "top": null,
            "grid_column": null,
            "overflow_y": null,
            "overflow_x": null,
            "grid_auto_flow": null,
            "grid_area": null,
            "grid_template_columns": null,
            "flex": null,
            "_model_name": "LayoutModel",
            "justify_items": null,
            "grid_row": null,
            "max_height": null,
            "align_content": null,
            "visibility": null,
            "align_self": null,
            "height": null,
            "min_height": null,
            "padding": null,
            "grid_auto_rows": null,
            "grid_gap": null,
            "max_width": null,
            "order": null,
            "_view_module_version": "1.2.0",
            "grid_template_areas": null,
            "object_position": null,
            "object_fit": null,
            "grid_auto_columns": null,
            "margin": null,
            "display": null,
            "left": null
          }
        },
        "d2511d3189d64ff3918160a0f25eacf5": {
          "model_module": "@jupyter-widgets/controls",
          "model_name": "HBoxModel",
          "state": {
            "_view_name": "HBoxView",
            "_dom_classes": [],
            "_model_name": "HBoxModel",
            "_view_module": "@jupyter-widgets/controls",
            "_model_module_version": "1.5.0",
            "_view_count": null,
            "_view_module_version": "1.5.0",
            "box_style": "",
            "layout": "IPY_MODEL_5516c22f68544c4c8ffa314e330d061d",
            "_model_module": "@jupyter-widgets/controls",
            "children": [
              "IPY_MODEL_40f2e198ba0d4629be9caf72e64178c6",
              "IPY_MODEL_ca142622631a4747ae232b945ca7a567"
            ]
          }
        },
        "5516c22f68544c4c8ffa314e330d061d": {
          "model_module": "@jupyter-widgets/base",
          "model_name": "LayoutModel",
          "state": {
            "_view_name": "LayoutView",
            "grid_template_rows": null,
            "right": null,
            "justify_content": null,
            "_view_module": "@jupyter-widgets/base",
            "overflow": null,
            "_model_module_version": "1.2.0",
            "_view_count": null,
            "flex_flow": null,
            "width": null,
            "min_width": null,
            "border": null,
            "align_items": null,
            "bottom": null,
            "_model_module": "@jupyter-widgets/base",
            "top": null,
            "grid_column": null,
            "overflow_y": null,
            "overflow_x": null,
            "grid_auto_flow": null,
            "grid_area": null,
            "grid_template_columns": null,
            "flex": null,
            "_model_name": "LayoutModel",
            "justify_items": null,
            "grid_row": null,
            "max_height": null,
            "align_content": null,
            "visibility": null,
            "align_self": null,
            "height": null,
            "min_height": null,
            "padding": null,
            "grid_auto_rows": null,
            "grid_gap": null,
            "max_width": null,
            "order": null,
            "_view_module_version": "1.2.0",
            "grid_template_areas": null,
            "object_position": null,
            "object_fit": null,
            "grid_auto_columns": null,
            "margin": null,
            "display": null,
            "left": null
          }
        },
        "40f2e198ba0d4629be9caf72e64178c6": {
          "model_module": "@jupyter-widgets/controls",
          "model_name": "FloatProgressModel",
          "state": {
            "_view_name": "ProgressView",
            "style": "IPY_MODEL_e78d7d2c744947c5a8e3a1b4809c1728",
            "_dom_classes": [],
            "description": "Downloading: 100%",
            "_model_name": "FloatProgressModel",
            "bar_style": "success",
            "max": 433,
            "_view_module": "@jupyter-widgets/controls",
            "_model_module_version": "1.5.0",
            "value": 433,
            "_view_count": null,
            "_view_module_version": "1.5.0",
            "orientation": "horizontal",
            "min": 0,
            "description_tooltip": null,
            "_model_module": "@jupyter-widgets/controls",
            "layout": "IPY_MODEL_39a47d6bf1bb41dfb1550baea947d75a"
          }
        },
        "ca142622631a4747ae232b945ca7a567": {
          "model_module": "@jupyter-widgets/controls",
          "model_name": "HTMLModel",
          "state": {
            "_view_name": "HTMLView",
            "style": "IPY_MODEL_b567af02d7684b6dbb69445eb483ab07",
            "_dom_classes": [],
            "description": "",
            "_model_name": "HTMLModel",
            "placeholder": "​",
            "_view_module": "@jupyter-widgets/controls",
            "_model_module_version": "1.5.0",
            "value": " 433/433 [00:24&lt;00:00, 17.9B/s]",
            "_view_count": null,
            "_view_module_version": "1.5.0",
            "description_tooltip": null,
            "_model_module": "@jupyter-widgets/controls",
            "layout": "IPY_MODEL_03f7f3465af6414a8c699d18afe6af7b"
          }
        },
        "e78d7d2c744947c5a8e3a1b4809c1728": {
          "model_module": "@jupyter-widgets/controls",
          "model_name": "ProgressStyleModel",
          "state": {
            "_view_name": "StyleView",
            "_model_name": "ProgressStyleModel",
            "description_width": "initial",
            "_view_module": "@jupyter-widgets/base",
            "_model_module_version": "1.5.0",
            "_view_count": null,
            "_view_module_version": "1.2.0",
            "bar_color": null,
            "_model_module": "@jupyter-widgets/controls"
          }
        },
        "39a47d6bf1bb41dfb1550baea947d75a": {
          "model_module": "@jupyter-widgets/base",
          "model_name": "LayoutModel",
          "state": {
            "_view_name": "LayoutView",
            "grid_template_rows": null,
            "right": null,
            "justify_content": null,
            "_view_module": "@jupyter-widgets/base",
            "overflow": null,
            "_model_module_version": "1.2.0",
            "_view_count": null,
            "flex_flow": null,
            "width": null,
            "min_width": null,
            "border": null,
            "align_items": null,
            "bottom": null,
            "_model_module": "@jupyter-widgets/base",
            "top": null,
            "grid_column": null,
            "overflow_y": null,
            "overflow_x": null,
            "grid_auto_flow": null,
            "grid_area": null,
            "grid_template_columns": null,
            "flex": null,
            "_model_name": "LayoutModel",
            "justify_items": null,
            "grid_row": null,
            "max_height": null,
            "align_content": null,
            "visibility": null,
            "align_self": null,
            "height": null,
            "min_height": null,
            "padding": null,
            "grid_auto_rows": null,
            "grid_gap": null,
            "max_width": null,
            "order": null,
            "_view_module_version": "1.2.0",
            "grid_template_areas": null,
            "object_position": null,
            "object_fit": null,
            "grid_auto_columns": null,
            "margin": null,
            "display": null,
            "left": null
          }
        },
        "b567af02d7684b6dbb69445eb483ab07": {
          "model_module": "@jupyter-widgets/controls",
          "model_name": "DescriptionStyleModel",
          "state": {
            "_view_name": "StyleView",
            "_model_name": "DescriptionStyleModel",
            "description_width": "",
            "_view_module": "@jupyter-widgets/base",
            "_model_module_version": "1.5.0",
            "_view_count": null,
            "_view_module_version": "1.2.0",
            "_model_module": "@jupyter-widgets/controls"
          }
        },
        "03f7f3465af6414a8c699d18afe6af7b": {
          "model_module": "@jupyter-widgets/base",
          "model_name": "LayoutModel",
          "state": {
            "_view_name": "LayoutView",
            "grid_template_rows": null,
            "right": null,
            "justify_content": null,
            "_view_module": "@jupyter-widgets/base",
            "overflow": null,
            "_model_module_version": "1.2.0",
            "_view_count": null,
            "flex_flow": null,
            "width": null,
            "min_width": null,
            "border": null,
            "align_items": null,
            "bottom": null,
            "_model_module": "@jupyter-widgets/base",
            "top": null,
            "grid_column": null,
            "overflow_y": null,
            "overflow_x": null,
            "grid_auto_flow": null,
            "grid_area": null,
            "grid_template_columns": null,
            "flex": null,
            "_model_name": "LayoutModel",
            "justify_items": null,
            "grid_row": null,
            "max_height": null,
            "align_content": null,
            "visibility": null,
            "align_self": null,
            "height": null,
            "min_height": null,
            "padding": null,
            "grid_auto_rows": null,
            "grid_gap": null,
            "max_width": null,
            "order": null,
            "_view_module_version": "1.2.0",
            "grid_template_areas": null,
            "object_position": null,
            "object_fit": null,
            "grid_auto_columns": null,
            "margin": null,
            "display": null,
            "left": null
          }
        },
        "2dfb53e199b94d49b3c991f813f52a0c": {
          "model_module": "@jupyter-widgets/controls",
          "model_name": "HBoxModel",
          "state": {
            "_view_name": "HBoxView",
            "_dom_classes": [],
            "_model_name": "HBoxModel",
            "_view_module": "@jupyter-widgets/controls",
            "_model_module_version": "1.5.0",
            "_view_count": null,
            "_view_module_version": "1.5.0",
            "box_style": "",
            "layout": "IPY_MODEL_dead360d1bef42cdb3732ecb7e33248f",
            "_model_module": "@jupyter-widgets/controls",
            "children": [
              "IPY_MODEL_4a6c98b5df4d42afaf7ca961f7853e64",
              "IPY_MODEL_95634ec61b64434ca82700c7a4a7d619"
            ]
          }
        },
        "dead360d1bef42cdb3732ecb7e33248f": {
          "model_module": "@jupyter-widgets/base",
          "model_name": "LayoutModel",
          "state": {
            "_view_name": "LayoutView",
            "grid_template_rows": null,
            "right": null,
            "justify_content": null,
            "_view_module": "@jupyter-widgets/base",
            "overflow": null,
            "_model_module_version": "1.2.0",
            "_view_count": null,
            "flex_flow": null,
            "width": null,
            "min_width": null,
            "border": null,
            "align_items": null,
            "bottom": null,
            "_model_module": "@jupyter-widgets/base",
            "top": null,
            "grid_column": null,
            "overflow_y": null,
            "overflow_x": null,
            "grid_auto_flow": null,
            "grid_area": null,
            "grid_template_columns": null,
            "flex": null,
            "_model_name": "LayoutModel",
            "justify_items": null,
            "grid_row": null,
            "max_height": null,
            "align_content": null,
            "visibility": null,
            "align_self": null,
            "height": null,
            "min_height": null,
            "padding": null,
            "grid_auto_rows": null,
            "grid_gap": null,
            "max_width": null,
            "order": null,
            "_view_module_version": "1.2.0",
            "grid_template_areas": null,
            "object_position": null,
            "object_fit": null,
            "grid_auto_columns": null,
            "margin": null,
            "display": null,
            "left": null
          }
        },
        "4a6c98b5df4d42afaf7ca961f7853e64": {
          "model_module": "@jupyter-widgets/controls",
          "model_name": "FloatProgressModel",
          "state": {
            "_view_name": "ProgressView",
            "style": "IPY_MODEL_88088f769fd74694b8eb3731285fe51c",
            "_dom_classes": [],
            "description": "Downloading: 100%",
            "_model_name": "FloatProgressModel",
            "bar_style": "success",
            "max": 440473133,
            "_view_module": "@jupyter-widgets/controls",
            "_model_module_version": "1.5.0",
            "value": 440473133,
            "_view_count": null,
            "_view_module_version": "1.5.0",
            "orientation": "horizontal",
            "min": 0,
            "description_tooltip": null,
            "_model_module": "@jupyter-widgets/controls",
            "layout": "IPY_MODEL_1c0a4cdc9c094f94b963526d7526d8ca"
          }
        },
        "95634ec61b64434ca82700c7a4a7d619": {
          "model_module": "@jupyter-widgets/controls",
          "model_name": "HTMLModel",
          "state": {
            "_view_name": "HTMLView",
            "style": "IPY_MODEL_4cd66d65f7f24108a67faa338345389e",
            "_dom_classes": [],
            "description": "",
            "_model_name": "HTMLModel",
            "placeholder": "​",
            "_view_module": "@jupyter-widgets/controls",
            "_model_module_version": "1.5.0",
            "value": " 440M/440M [00:08&lt;00:00, 49.8MB/s]",
            "_view_count": null,
            "_view_module_version": "1.5.0",
            "description_tooltip": null,
            "_model_module": "@jupyter-widgets/controls",
            "layout": "IPY_MODEL_b00291fd22af4be7a88570b050b6f031"
          }
        },
        "88088f769fd74694b8eb3731285fe51c": {
          "model_module": "@jupyter-widgets/controls",
          "model_name": "ProgressStyleModel",
          "state": {
            "_view_name": "StyleView",
            "_model_name": "ProgressStyleModel",
            "description_width": "initial",
            "_view_module": "@jupyter-widgets/base",
            "_model_module_version": "1.5.0",
            "_view_count": null,
            "_view_module_version": "1.2.0",
            "bar_color": null,
            "_model_module": "@jupyter-widgets/controls"
          }
        },
        "1c0a4cdc9c094f94b963526d7526d8ca": {
          "model_module": "@jupyter-widgets/base",
          "model_name": "LayoutModel",
          "state": {
            "_view_name": "LayoutView",
            "grid_template_rows": null,
            "right": null,
            "justify_content": null,
            "_view_module": "@jupyter-widgets/base",
            "overflow": null,
            "_model_module_version": "1.2.0",
            "_view_count": null,
            "flex_flow": null,
            "width": null,
            "min_width": null,
            "border": null,
            "align_items": null,
            "bottom": null,
            "_model_module": "@jupyter-widgets/base",
            "top": null,
            "grid_column": null,
            "overflow_y": null,
            "overflow_x": null,
            "grid_auto_flow": null,
            "grid_area": null,
            "grid_template_columns": null,
            "flex": null,
            "_model_name": "LayoutModel",
            "justify_items": null,
            "grid_row": null,
            "max_height": null,
            "align_content": null,
            "visibility": null,
            "align_self": null,
            "height": null,
            "min_height": null,
            "padding": null,
            "grid_auto_rows": null,
            "grid_gap": null,
            "max_width": null,
            "order": null,
            "_view_module_version": "1.2.0",
            "grid_template_areas": null,
            "object_position": null,
            "object_fit": null,
            "grid_auto_columns": null,
            "margin": null,
            "display": null,
            "left": null
          }
        },
        "4cd66d65f7f24108a67faa338345389e": {
          "model_module": "@jupyter-widgets/controls",
          "model_name": "DescriptionStyleModel",
          "state": {
            "_view_name": "StyleView",
            "_model_name": "DescriptionStyleModel",
            "description_width": "",
            "_view_module": "@jupyter-widgets/base",
            "_model_module_version": "1.5.0",
            "_view_count": null,
            "_view_module_version": "1.2.0",
            "_model_module": "@jupyter-widgets/controls"
          }
        },
        "b00291fd22af4be7a88570b050b6f031": {
          "model_module": "@jupyter-widgets/base",
          "model_name": "LayoutModel",
          "state": {
            "_view_name": "LayoutView",
            "grid_template_rows": null,
            "right": null,
            "justify_content": null,
            "_view_module": "@jupyter-widgets/base",
            "overflow": null,
            "_model_module_version": "1.2.0",
            "_view_count": null,
            "flex_flow": null,
            "width": null,
            "min_width": null,
            "border": null,
            "align_items": null,
            "bottom": null,
            "_model_module": "@jupyter-widgets/base",
            "top": null,
            "grid_column": null,
            "overflow_y": null,
            "overflow_x": null,
            "grid_auto_flow": null,
            "grid_area": null,
            "grid_template_columns": null,
            "flex": null,
            "_model_name": "LayoutModel",
            "justify_items": null,
            "grid_row": null,
            "max_height": null,
            "align_content": null,
            "visibility": null,
            "align_self": null,
            "height": null,
            "min_height": null,
            "padding": null,
            "grid_auto_rows": null,
            "grid_gap": null,
            "max_width": null,
            "order": null,
            "_view_module_version": "1.2.0",
            "grid_template_areas": null,
            "object_position": null,
            "object_fit": null,
            "grid_auto_columns": null,
            "margin": null,
            "display": null,
            "left": null
          }
        }
      }
    }
  },
  "cells": [
    {
      "cell_type": "markdown",
      "metadata": {
        "id": "sxLvNmyLJLws",
        "colab_type": "text"
      },
      "source": [
        "Google Colab offers free GPUs and TPUs! Since we'll be training a large neural network it's best to take advantage of this (in this case we'll attach a GPU), otherwise training will take a very long time.\n",
        "\n",
        "A GPU can be added by going to the menu and selecting:\n",
        "\n",
        "`Edit 🡒 Notebook Settings 🡒 Hardware accelerator 🡒 (GPU)`\n",
        "\n",
        "Then run the following cell to confirm that the GPU is detected."
      ]
    },
    {
      "cell_type": "code",
      "metadata": {
        "id": "Byt0VHC2IkUD",
        "colab_type": "code",
        "colab": {
          "base_uri": "https://localhost:8080/",
          "height": 34
        },
        "outputId": "34a540e4-1ee3-4384-f291-cf30d7ecd312"
      },
      "source": [
        "import tensorflow as tf\n",
        "\n",
        "# Get the GPU device name.\n",
        "device_name = tf.test.gpu_device_name()\n",
        "\n",
        "# The device name should look like the following:\n",
        "if device_name == '/device:GPU:0':\n",
        "    print('Found GPU at: {}'.format(device_name))\n",
        "else:\n",
        "    raise SystemError('GPU device not found')"
      ],
      "execution_count": null,
      "outputs": [
        {
          "output_type": "stream",
          "text": [
            "Found GPU at: /device:GPU:0\n"
          ],
          "name": "stdout"
        }
      ]
    },
    {
      "cell_type": "code",
      "metadata": {
        "id": "aPDR17b5JVOb",
        "colab_type": "code",
        "colab": {
          "base_uri": "https://localhost:8080/",
          "height": 51
        },
        "outputId": "742a3b8c-4213-4fa0-8e92-91847e6ab6ff"
      },
      "source": [
        "import torch\n",
        "\n",
        "# If there's a GPU available...\n",
        "if torch.cuda.is_available():    \n",
        "\n",
        "    # Tell PyTorch to use the GPU.    \n",
        "    device = torch.device(\"cuda\")\n",
        "\n",
        "    print('There are %d GPU(s) available.' % torch.cuda.device_count())\n",
        "\n",
        "    print('We will use the GPU:', torch.cuda.get_device_name(0))\n",
        "\n",
        "# If not...\n",
        "else:\n",
        "    print('No GPU available, using the CPU instead.')\n",
        "    device = torch.device(\"cpu\")"
      ],
      "execution_count": null,
      "outputs": [
        {
          "output_type": "stream",
          "text": [
            "There are 1 GPU(s) available.\n",
            "We will use the GPU: Tesla P100-PCIE-16GB\n"
          ],
          "name": "stdout"
        }
      ]
    },
    {
      "cell_type": "code",
      "metadata": {
        "id": "fJdKSYGS1wvK",
        "colab_type": "code",
        "colab": {
          "base_uri": "https://localhost:8080/",
          "height": 357
        },
        "outputId": "98c4b777-484a-4dec-cd19-a6fe0c3af332"
      },
      "source": [
        "!nvidia-smi"
      ],
      "execution_count": null,
      "outputs": [
        {
          "output_type": "stream",
          "text": [
            "Thu Jul 23 17:39:04 2020       \n",
            "+-----------------------------------------------------------------------------+\n",
            "| NVIDIA-SMI 450.51.05    Driver Version: 418.67       CUDA Version: 10.1     |\n",
            "|-------------------------------+----------------------+----------------------+\n",
            "| GPU  Name        Persistence-M| Bus-Id        Disp.A | Volatile Uncorr. ECC |\n",
            "| Fan  Temp  Perf  Pwr:Usage/Cap|         Memory-Usage | GPU-Util  Compute M. |\n",
            "|                               |                      |               MIG M. |\n",
            "|===============================+======================+======================|\n",
            "|   0  Tesla P100-PCIE...  Off  | 00000000:00:04.0 Off |                    0 |\n",
            "| N/A   41C    P0    32W / 250W |    353MiB / 16280MiB |      0%      Default |\n",
            "|                               |                      |                 ERR! |\n",
            "+-------------------------------+----------------------+----------------------+\n",
            "                                                                               \n",
            "+-----------------------------------------------------------------------------+\n",
            "| Processes:                                                                  |\n",
            "|  GPU   GI   CI        PID   Type   Process name                  GPU Memory |\n",
            "|        ID   ID                                                   Usage      |\n",
            "|=============================================================================|\n",
            "|  No running processes found                                                 |\n",
            "+-----------------------------------------------------------------------------+\n"
          ],
          "name": "stdout"
        }
      ]
    },
    {
      "cell_type": "code",
      "metadata": {
        "id": "5I6FHU4rJYys",
        "colab_type": "code",
        "colab": {
          "base_uri": "https://localhost:8080/",
          "height": 595
        },
        "outputId": "381b26df-288d-458f-edfe-05769ec96f32"
      },
      "source": [
        "!pip install transformers"
      ],
      "execution_count": null,
      "outputs": [
        {
          "output_type": "stream",
          "text": [
            "Collecting transformers\n",
            "\u001b[?25l  Downloading https://files.pythonhosted.org/packages/27/3c/91ed8f5c4e7ef3227b4119200fc0ed4b4fd965b1f0172021c25701087825/transformers-3.0.2-py3-none-any.whl (769kB)\n",
            "\r\u001b[K     |▍                               | 10kB 24.0MB/s eta 0:00:01\r\u001b[K     |▉                               | 20kB 3.1MB/s eta 0:00:01\r\u001b[K     |█▎                              | 30kB 3.7MB/s eta 0:00:01\r\u001b[K     |█▊                              | 40kB 4.1MB/s eta 0:00:01\r\u001b[K     |██▏                             | 51kB 3.6MB/s eta 0:00:01\r\u001b[K     |██▋                             | 61kB 4.1MB/s eta 0:00:01\r\u001b[K     |███                             | 71kB 4.3MB/s eta 0:00:01\r\u001b[K     |███▍                            | 81kB 4.7MB/s eta 0:00:01\r\u001b[K     |███▉                            | 92kB 4.7MB/s eta 0:00:01\r\u001b[K     |████▎                           | 102kB 4.8MB/s eta 0:00:01\r\u001b[K     |████▊                           | 112kB 4.8MB/s eta 0:00:01\r\u001b[K     |█████▏                          | 122kB 4.8MB/s eta 0:00:01\r\u001b[K     |█████▌                          | 133kB 4.8MB/s eta 0:00:01\r\u001b[K     |██████                          | 143kB 4.8MB/s eta 0:00:01\r\u001b[K     |██████▍                         | 153kB 4.8MB/s eta 0:00:01\r\u001b[K     |██████▉                         | 163kB 4.8MB/s eta 0:00:01\r\u001b[K     |███████▎                        | 174kB 4.8MB/s eta 0:00:01\r\u001b[K     |███████▊                        | 184kB 4.8MB/s eta 0:00:01\r\u001b[K     |████████                        | 194kB 4.8MB/s eta 0:00:01\r\u001b[K     |████████▌                       | 204kB 4.8MB/s eta 0:00:01\r\u001b[K     |█████████                       | 215kB 4.8MB/s eta 0:00:01\r\u001b[K     |█████████▍                      | 225kB 4.8MB/s eta 0:00:01\r\u001b[K     |█████████▉                      | 235kB 4.8MB/s eta 0:00:01\r\u001b[K     |██████████▎                     | 245kB 4.8MB/s eta 0:00:01\r\u001b[K     |██████████▋                     | 256kB 4.8MB/s eta 0:00:01\r\u001b[K     |███████████                     | 266kB 4.8MB/s eta 0:00:01\r\u001b[K     |███████████▌                    | 276kB 4.8MB/s eta 0:00:01\r\u001b[K     |████████████                    | 286kB 4.8MB/s eta 0:00:01\r\u001b[K     |████████████▍                   | 296kB 4.8MB/s eta 0:00:01\r\u001b[K     |████████████▉                   | 307kB 4.8MB/s eta 0:00:01\r\u001b[K     |█████████████▏                  | 317kB 4.8MB/s eta 0:00:01\r\u001b[K     |█████████████▋                  | 327kB 4.8MB/s eta 0:00:01\r\u001b[K     |██████████████                  | 337kB 4.8MB/s eta 0:00:01\r\u001b[K     |██████████████▌                 | 348kB 4.8MB/s eta 0:00:01\r\u001b[K     |███████████████                 | 358kB 4.8MB/s eta 0:00:01\r\u001b[K     |███████████████▍                | 368kB 4.8MB/s eta 0:00:01\r\u001b[K     |███████████████▊                | 378kB 4.8MB/s eta 0:00:01\r\u001b[K     |████████████████▏               | 389kB 4.8MB/s eta 0:00:01\r\u001b[K     |████████████████▋               | 399kB 4.8MB/s eta 0:00:01\r\u001b[K     |█████████████████               | 409kB 4.8MB/s eta 0:00:01\r\u001b[K     |█████████████████▌              | 419kB 4.8MB/s eta 0:00:01\r\u001b[K     |██████████████████              | 430kB 4.8MB/s eta 0:00:01\r\u001b[K     |██████████████████▎             | 440kB 4.8MB/s eta 0:00:01\r\u001b[K     |██████████████████▊             | 450kB 4.8MB/s eta 0:00:01\r\u001b[K     |███████████████████▏            | 460kB 4.8MB/s eta 0:00:01\r\u001b[K     |███████████████████▋            | 471kB 4.8MB/s eta 0:00:01\r\u001b[K     |████████████████████            | 481kB 4.8MB/s eta 0:00:01\r\u001b[K     |████████████████████▌           | 491kB 4.8MB/s eta 0:00:01\r\u001b[K     |████████████████████▉           | 501kB 4.8MB/s eta 0:00:01\r\u001b[K     |█████████████████████▎          | 512kB 4.8MB/s eta 0:00:01\r\u001b[K     |█████████████████████▊          | 522kB 4.8MB/s eta 0:00:01\r\u001b[K     |██████████████████████▏         | 532kB 4.8MB/s eta 0:00:01\r\u001b[K     |██████████████████████▋         | 542kB 4.8MB/s eta 0:00:01\r\u001b[K     |███████████████████████         | 552kB 4.8MB/s eta 0:00:01\r\u001b[K     |███████████████████████▍        | 563kB 4.8MB/s eta 0:00:01\r\u001b[K     |███████████████████████▉        | 573kB 4.8MB/s eta 0:00:01\r\u001b[K     |████████████████████████▎       | 583kB 4.8MB/s eta 0:00:01\r\u001b[K     |████████████████████████▊       | 593kB 4.8MB/s eta 0:00:01\r\u001b[K     |█████████████████████████▏      | 604kB 4.8MB/s eta 0:00:01\r\u001b[K     |█████████████████████████▋      | 614kB 4.8MB/s eta 0:00:01\r\u001b[K     |██████████████████████████      | 624kB 4.8MB/s eta 0:00:01\r\u001b[K     |██████████████████████████▍     | 634kB 4.8MB/s eta 0:00:01\r\u001b[K     |██████████████████████████▉     | 645kB 4.8MB/s eta 0:00:01\r\u001b[K     |███████████████████████████▎    | 655kB 4.8MB/s eta 0:00:01\r\u001b[K     |███████████████████████████▊    | 665kB 4.8MB/s eta 0:00:01\r\u001b[K     |████████████████████████████▏   | 675kB 4.8MB/s eta 0:00:01\r\u001b[K     |████████████████████████████▌   | 686kB 4.8MB/s eta 0:00:01\r\u001b[K     |█████████████████████████████   | 696kB 4.8MB/s eta 0:00:01\r\u001b[K     |█████████████████████████████▍  | 706kB 4.8MB/s eta 0:00:01\r\u001b[K     |█████████████████████████████▉  | 716kB 4.8MB/s eta 0:00:01\r\u001b[K     |██████████████████████████████▎ | 727kB 4.8MB/s eta 0:00:01\r\u001b[K     |██████████████████████████████▊ | 737kB 4.8MB/s eta 0:00:01\r\u001b[K     |███████████████████████████████ | 747kB 4.8MB/s eta 0:00:01\r\u001b[K     |███████████████████████████████▌| 757kB 4.8MB/s eta 0:00:01\r\u001b[K     |████████████████████████████████| 768kB 4.8MB/s eta 0:00:01\r\u001b[K     |████████████████████████████████| 778kB 4.8MB/s \n",
            "\u001b[?25hRequirement already satisfied: packaging in /usr/local/lib/python3.6/dist-packages (from transformers) (20.4)\n",
            "Requirement already satisfied: tqdm>=4.27 in /usr/local/lib/python3.6/dist-packages (from transformers) (4.41.1)\n",
            "Collecting sentencepiece!=0.1.92\n",
            "\u001b[?25l  Downloading https://files.pythonhosted.org/packages/d4/a4/d0a884c4300004a78cca907a6ff9a5e9fe4f090f5d95ab341c53d28cbc58/sentencepiece-0.1.91-cp36-cp36m-manylinux1_x86_64.whl (1.1MB)\n",
            "\u001b[K     |████████████████████████████████| 1.1MB 13.5MB/s \n",
            "\u001b[?25hRequirement already satisfied: dataclasses; python_version < \"3.7\" in /usr/local/lib/python3.6/dist-packages (from transformers) (0.7)\n",
            "Requirement already satisfied: requests in /usr/local/lib/python3.6/dist-packages (from transformers) (2.23.0)\n",
            "Requirement already satisfied: filelock in /usr/local/lib/python3.6/dist-packages (from transformers) (3.0.12)\n",
            "Requirement already satisfied: regex!=2019.12.17 in /usr/local/lib/python3.6/dist-packages (from transformers) (2019.12.20)\n",
            "Requirement already satisfied: numpy in /usr/local/lib/python3.6/dist-packages (from transformers) (1.18.5)\n",
            "Collecting sacremoses\n",
            "\u001b[?25l  Downloading https://files.pythonhosted.org/packages/7d/34/09d19aff26edcc8eb2a01bed8e98f13a1537005d31e95233fd48216eed10/sacremoses-0.0.43.tar.gz (883kB)\n",
            "\u001b[K     |████████████████████████████████| 890kB 28.3MB/s \n",
            "\u001b[?25hCollecting tokenizers==0.8.1.rc1\n",
            "\u001b[?25l  Downloading https://files.pythonhosted.org/packages/40/d0/30d5f8d221a0ed981a186c8eb986ce1c94e3a6e87f994eae9f4aa5250217/tokenizers-0.8.1rc1-cp36-cp36m-manylinux1_x86_64.whl (3.0MB)\n",
            "\u001b[K     |████████████████████████████████| 3.0MB 46.1MB/s \n",
            "\u001b[?25hRequirement already satisfied: six in /usr/local/lib/python3.6/dist-packages (from packaging->transformers) (1.15.0)\n",
            "Requirement already satisfied: pyparsing>=2.0.2 in /usr/local/lib/python3.6/dist-packages (from packaging->transformers) (2.4.7)\n",
            "Requirement already satisfied: chardet<4,>=3.0.2 in /usr/local/lib/python3.6/dist-packages (from requests->transformers) (3.0.4)\n",
            "Requirement already satisfied: idna<3,>=2.5 in /usr/local/lib/python3.6/dist-packages (from requests->transformers) (2.10)\n",
            "Requirement already satisfied: urllib3!=1.25.0,!=1.25.1,<1.26,>=1.21.1 in /usr/local/lib/python3.6/dist-packages (from requests->transformers) (1.24.3)\n",
            "Requirement already satisfied: certifi>=2017.4.17 in /usr/local/lib/python3.6/dist-packages (from requests->transformers) (2020.6.20)\n",
            "Requirement already satisfied: click in /usr/local/lib/python3.6/dist-packages (from sacremoses->transformers) (7.1.2)\n",
            "Requirement already satisfied: joblib in /usr/local/lib/python3.6/dist-packages (from sacremoses->transformers) (0.16.0)\n",
            "Building wheels for collected packages: sacremoses\n",
            "  Building wheel for sacremoses (setup.py) ... \u001b[?25l\u001b[?25hdone\n",
            "  Created wheel for sacremoses: filename=sacremoses-0.0.43-cp36-none-any.whl size=893260 sha256=ca75fa08ffa014b51871b9d08d3d383e1e12dd988b89692830260b6c0deec22b\n",
            "  Stored in directory: /root/.cache/pip/wheels/29/3c/fd/7ce5c3f0666dab31a50123635e6fb5e19ceb42ce38d4e58f45\n",
            "Successfully built sacremoses\n",
            "Installing collected packages: sentencepiece, sacremoses, tokenizers, transformers\n",
            "Successfully installed sacremoses-0.0.43 sentencepiece-0.1.91 tokenizers-0.8.1rc1 transformers-3.0.2\n"
          ],
          "name": "stdout"
        }
      ]
    },
    {
      "cell_type": "code",
      "metadata": {
        "id": "n8sbn8RiJk0Z",
        "colab_type": "code",
        "colab": {
          "base_uri": "https://localhost:8080/",
          "height": 122
        },
        "outputId": "e195d99e-e7a2-42f0-d65c-30abbadee2c9"
      },
      "source": [
        "from google.colab import drive\n",
        "drive.mount('/content/drive')"
      ],
      "execution_count": null,
      "outputs": [
        {
          "output_type": "stream",
          "text": [
            "Go to this URL in a browser: https://accounts.google.com/o/oauth2/auth?client_id=947318989803-6bn6qk8qdgf4n4g3pfee6491hc0brc4i.apps.googleusercontent.com&redirect_uri=urn%3aietf%3awg%3aoauth%3a2.0%3aoob&response_type=code&scope=email%20https%3a%2f%2fwww.googleapis.com%2fauth%2fdocs.test%20https%3a%2f%2fwww.googleapis.com%2fauth%2fdrive%20https%3a%2f%2fwww.googleapis.com%2fauth%2fdrive.photos.readonly%20https%3a%2f%2fwww.googleapis.com%2fauth%2fpeopleapi.readonly\n",
            "\n",
            "Enter your authorization code:\n",
            "··········\n",
            "Mounted at /content/drive\n"
          ],
          "name": "stdout"
        }
      ]
    },
    {
      "cell_type": "markdown",
      "metadata": {
        "id": "pAB6fHcCjSFk",
        "colab_type": "text"
      },
      "source": [
        "Put the `train.csv` and `test.csv` in your Google Drive in a folder named `dl_data`."
      ]
    },
    {
      "cell_type": "code",
      "metadata": {
        "id": "_KzPGrXeJ1RF",
        "colab_type": "code",
        "colab": {
          "base_uri": "https://localhost:8080/",
          "height": 136
        },
        "outputId": "33abdf7a-97cd-4711-f4f7-11cad70bdf57"
      },
      "source": [
        "import pandas as pd\n",
        "\n",
        "folder = \"drive/My Drive/dl_data/\"\n",
        "train_file = folder + \"train.csv\"\n",
        "test_file = folder + \"test.csv\"\n",
        "\n",
        "train_df = pd.read_csv(train_file)#.sample(50)\n",
        "test_df = pd.read_csv(test_file)#.sample(1000)\n",
        "\n",
        "print(\"Train size:\", len(train_df), \"Test size:\", len(test_df))\n",
        "print(train_df.head())"
      ],
      "execution_count": null,
      "outputs": [
        {
          "output_type": "stream",
          "text": [
            "Train size: 25000 Test size: 25000\n",
            "                                              review  sentiment\n",
            "0  Now here is a film that if made in Australia w...          0\n",
            "1  It pains me to write such a scathing review bu...          0\n",
            "2  Lord Alan Cunningham(Antonio De Teffè)is a nut...          0\n",
            "3  This dreadful film assembles every Asian stere...          0\n",
            "4  Recap: Ron is about to marry Mel. They are dee...          0\n"
          ],
          "name": "stdout"
        }
      ]
    },
    {
      "cell_type": "code",
      "metadata": {
        "id": "Q-7Jr0FZLaWf",
        "colab_type": "code",
        "colab": {
          "base_uri": "https://localhost:8080/",
          "height": 83,
          "referenced_widgets": [
            "3497ff700a0f4bcab4b3b46b382b0683",
            "08976efde3cc4ed9bfae4d327fb47adf",
            "d76afde05baf4ae3a2be981f2b9c8f30",
            "baf541f71c5d448e86df58180934da3f",
            "67475dfccd3a4e399c0bcbf89c4512d3",
            "17433f0bd6234efa89f9c57fcfdad947",
            "862905dcca894d34bbdb7e2b9e1d655e",
            "6d9d38aafc644d5ab64664af1b9772ef"
          ]
        },
        "outputId": "b5a9dda6-99cd-4626-f288-45a248bf8c36"
      },
      "source": [
        "from transformers import BertTokenizer\n",
        "\n",
        "print(\"Loading BERT tokenizer...\")\n",
        "tokenizer = BertTokenizer.from_pretrained(\"bert-base-uncased\", do_lower_case=True)"
      ],
      "execution_count": null,
      "outputs": [
        {
          "output_type": "stream",
          "text": [
            "Loading BERT tokenizer...\n"
          ],
          "name": "stdout"
        },
        {
          "output_type": "display_data",
          "data": {
            "application/vnd.jupyter.widget-view+json": {
              "model_id": "3497ff700a0f4bcab4b3b46b382b0683",
              "version_minor": 0,
              "version_major": 2
            },
            "text/plain": [
              "HBox(children=(FloatProgress(value=0.0, description='Downloading', max=231508.0, style=ProgressStyle(descripti…"
            ]
          },
          "metadata": {
            "tags": []
          }
        },
        {
          "output_type": "stream",
          "text": [
            "\n"
          ],
          "name": "stdout"
        }
      ]
    },
    {
      "cell_type": "markdown",
      "metadata": {
        "id": "Il2QOVtoMJdU",
        "colab_type": "text"
      },
      "source": [
        "Example Tokenization:"
      ]
    },
    {
      "cell_type": "code",
      "metadata": {
        "id": "aJ4AYefzOr2q",
        "colab_type": "code",
        "colab": {}
      },
      "source": [
        "def encode_df(df):\n",
        "  reviews = df[\"review\"].values\n",
        "  labels = df[\"sentiment\"].values\n",
        "  input_ids = []\n",
        "  attention_masks = []\n",
        "\n",
        "  for review in reviews:\n",
        "      encoded_dict = tokenizer.encode_plus(\n",
        "          review,\n",
        "          add_special_tokens = True,\n",
        "          max_length=512,\n",
        "          truncation = True,\n",
        "          pad_to_max_length = True,\n",
        "          return_attention_mask = True,\n",
        "          return_tensors = \"pt\",\n",
        "      )\n",
        "\n",
        "      input_ids.append(encoded_dict[\"input_ids\"])\n",
        "      attention_masks.append(encoded_dict[\"attention_mask\"])\n",
        "    \n",
        "  input_ids = torch.cat(input_ids, dim=0)\n",
        "  attention_masks = torch.cat(attention_masks, dim=0)\n",
        "  labels_tensor = torch.tensor(labels)\n",
        "  return input_ids, attention_masks, labels_tensor"
      ],
      "execution_count": null,
      "outputs": []
    },
    {
      "cell_type": "code",
      "metadata": {
        "id": "47A8BDJHRFkC",
        "colab_type": "code",
        "colab": {
          "base_uri": "https://localhost:8080/",
          "height": 972
        },
        "outputId": "cd432999-83bf-41c6-868d-96af4f9e31f2"
      },
      "source": [
        "from torch.utils.data import TensorDataset, random_split\n",
        "\n",
        "input_ids, attention_masks, labels = encode_df(train_df)\n",
        "dataset = TensorDataset(input_ids, attention_masks, labels)\n",
        "\n",
        "train_size = 24999 # int(0.8 * len(dataset)) #24999\n",
        "val_size = len(dataset) - train_size\n",
        "\n",
        "train_dataset, val_dataset = random_split(dataset, [train_size, val_size])\n",
        "\n",
        "print(\"Train Size:\", train_size, \"Validation Size:\", val_size)\n",
        "\n",
        "example_id = 0\n",
        "example_review = train_df.iloc[0, example_id]\n",
        "print(\"Original:\", example_review)\n",
        "print(\"Token IDs:\", input_ids[example_id])\n",
        "print(len(input_ids[example_id]))"
      ],
      "execution_count": null,
      "outputs": [
        {
          "output_type": "stream",
          "text": [
            "Train Size: 24999 Validation Size: 1\n",
            "Original: Now here is a film that if made in Australia would have easily been a comedy. Sadly and annoyingly, here it is, flaccid and cheesy and overbaked from Lala land. How did the di-erector get it so wrong? Well, mainly by being serious about a job so hilariously startling that nobody in their right mind could take seriously. Unless of course they were a nerdy lonely gay cliché (but somehow cute)...or is that cliché piled upon cliché. No value in the story that almost seems like a prequel to Gus Van Sant's GERRY..... and with a title like THE FLUFFER how is it all such a lead weight? Well this auteur must have soooooo mad that he didn't get to Burt and BOOGIE first that he had to make his own. Convoluted and undeveloped apart from the 'unrequited love's a bore' theme left over from a faded Streisand lyric, we have only moody beefcake and TV serial level storyline left. The un necessary fourth act of this overlong turgid drama is truly terrible as the film wanders off like the Gerries into to desert and gets stuck there. In Oz in the late 90s some 20 somethings made a similar but actually hilarious film called MONEYSHOT. Originally filmed as THE VENUS FACTORY it too suffered from an auteur more awful than Orson so they re-filmed half of it, got a ruthless TV editor to chop it up and down down to 72 minutes and hey-presto..comedy, tonight! A lesson there in when bad films turn good by lightening up. I guess THE FLUFFER stiffed on release and after seeing it not perform, I can understand why.\n",
            "Token IDs: tensor([  101,  2085,  2182,  2003,  1037,  2143,  2008,  2065,  2081,  1999,\n",
            "         2660,  2052,  2031,  4089,  2042,  1037,  4038,  1012, 13718,  1998,\n",
            "        15703,  2135,  1010,  2182,  2009,  2003,  1010, 13109,  6305,  6895,\n",
            "         2094,  1998, 18178,  2229,  2100,  1998,  2058,  3676,  8126,  2013,\n",
            "        21348,  2050,  2455,  1012,  2129,  2106,  1996,  4487,  1011, 14908,\n",
            "         2953,  2131,  2009,  2061,  3308,  1029,  2092,  1010,  3701,  2011,\n",
            "         2108,  3809,  2055,  1037,  3105,  2061, 26316,  2135, 19828,  2008,\n",
            "         6343,  1999,  2037,  2157,  2568,  2071,  2202,  5667,  1012,  4983,\n",
            "         1997,  2607,  2027,  2020,  1037, 11265, 17460,  9479,  5637, 18856,\n",
            "        17322,  1006,  2021,  5064, 10140,  1007,  1012,  1012,  1012,  2030,\n",
            "         2003,  2008, 18856, 17322, 17835,  2588, 18856, 17322,  1012,  2053,\n",
            "         3643,  1999,  1996,  2466,  2008,  2471,  3849,  2066,  1037, 28280,\n",
            "         2000, 12670,  3158, 15548,  1005,  1055, 14926,  1012,  1012,  1012,\n",
            "         1012,  1012,  1998,  2007,  1037,  2516,  2066,  1996, 19857, 12494,\n",
            "         2129,  2003,  2009,  2035,  2107,  1037,  2599,  3635,  1029,  2092,\n",
            "         2023,  8740,  2618,  3126,  2442,  2031, 17111,  9541,  9541,  5506,\n",
            "         2008,  2002,  2134,  1005,  1056,  2131,  2000, 18611,  1998, 21495,\n",
            "         2034,  2008,  2002,  2018,  2000,  2191,  2010,  2219,  1012,  9530,\n",
            "         6767,  7630,  3064,  1998, 29341,  4237,  2013,  1996,  1005,  4895,\n",
            "         2890, 15549,  3064,  2293,  1005,  1055,  1037,  8501,  1005,  4323,\n",
            "         2187,  2058,  2013,  1037,  8105,  2358,  2890, 29196,  2094, 13677,\n",
            "         1010,  2057,  2031,  2069, 14434, 12486, 17955,  1998,  2694,  7642,\n",
            "         2504,  9994,  2187,  1012,  1996,  4895,  4072,  2959,  2552,  1997,\n",
            "         2023,  2058, 10052, 10722, 10623,  3593,  3689,  2003,  5621,  6659,\n",
            "         2004,  1996,  2143, 17677,  2015,  2125,  2066,  1996, 16216, 26801,\n",
            "         2046,  2000,  5532,  1998,  4152,  5881,  2045,  1012,  1999, 11472,\n",
            "         1999,  1996,  2397, 17233,  2070,  2322,  2242,  2015,  2081,  1037,\n",
            "         2714,  2021,  2941, 26316,  2143,  2170,  2769, 19040,  1012,  2761,\n",
            "         6361,  2004,  1996, 11691,  4713,  2009,  2205,  4265,  2013,  2019,\n",
            "         8740,  2618,  3126,  2062,  9643,  2084, 25026,  2061,  2027,  2128,\n",
            "         1011,  6361,  2431,  1997,  2009,  1010,  2288,  1037, 18101,  2694,\n",
            "         3559,  2000, 24494,  2009,  2039,  1998,  2091,  2091,  2000,  5824,\n",
            "         2781,  1998,  4931,  1011,  3653, 16033,  1012,  1012,  4038,  1010,\n",
            "         3892,   999,  1037, 10800,  2045,  1999,  2043,  2919,  3152,  2735,\n",
            "         2204,  2011,  2422,  7406,  2039,  1012,  1045,  3984,  1996, 19857,\n",
            "        12494, 10551,  2098,  2006,  2713,  1998,  2044,  3773,  2009,  2025,\n",
            "         4685,  1010,  1045,  2064,  3305,  2339,  1012,   102,     0,     0,\n",
            "            0,     0,     0,     0,     0,     0,     0,     0,     0,     0,\n",
            "            0,     0,     0,     0,     0,     0,     0,     0,     0,     0,\n",
            "            0,     0,     0,     0,     0,     0,     0,     0,     0,     0,\n",
            "            0,     0,     0,     0,     0,     0,     0,     0,     0,     0,\n",
            "            0,     0,     0,     0,     0,     0,     0,     0,     0,     0,\n",
            "            0,     0,     0,     0,     0,     0,     0,     0,     0,     0,\n",
            "            0,     0,     0,     0,     0,     0,     0,     0,     0,     0,\n",
            "            0,     0,     0,     0,     0,     0,     0,     0,     0,     0,\n",
            "            0,     0,     0,     0,     0,     0,     0,     0,     0,     0,\n",
            "            0,     0,     0,     0,     0,     0,     0,     0,     0,     0,\n",
            "            0,     0,     0,     0,     0,     0,     0,     0,     0,     0,\n",
            "            0,     0,     0,     0,     0,     0,     0,     0,     0,     0,\n",
            "            0,     0,     0,     0,     0,     0,     0,     0,     0,     0,\n",
            "            0,     0,     0,     0,     0,     0,     0,     0,     0,     0,\n",
            "            0,     0])\n",
            "512\n"
          ],
          "name": "stdout"
        }
      ]
    },
    {
      "cell_type": "code",
      "metadata": {
        "id": "dnG2qov4SHNH",
        "colab_type": "code",
        "colab": {}
      },
      "source": [
        "from torch.utils.data import DataLoader, RandomSampler, SequentialSampler\n",
        "\n",
        "# This is the maximum batch size the gpu can handle simultaneously \n",
        "gpu_batch_size = 8\n",
        "batch_size = 32\n",
        "num_steps_before_update = batch_size / gpu_batch_size\n",
        "\n",
        "train_dataloader = DataLoader(\n",
        "    train_dataset,\n",
        "    sampler = RandomSampler(train_dataset),\n",
        "    batch_size = gpu_batch_size\n",
        ")\n",
        "validation_dataloader = DataLoader(\n",
        "    val_dataset,\n",
        "    sampler = SequentialSampler(val_dataset),\n",
        "    batch_size = gpu_batch_size\n",
        ")"
      ],
      "execution_count": null,
      "outputs": []
    },
    {
      "cell_type": "code",
      "metadata": {
        "id": "NyoA300mSmyb",
        "colab_type": "code",
        "colab": {
          "base_uri": "https://localhost:8080/",
          "height": 1000,
          "referenced_widgets": [
            "d2511d3189d64ff3918160a0f25eacf5",
            "5516c22f68544c4c8ffa314e330d061d",
            "40f2e198ba0d4629be9caf72e64178c6",
            "ca142622631a4747ae232b945ca7a567",
            "e78d7d2c744947c5a8e3a1b4809c1728",
            "39a47d6bf1bb41dfb1550baea947d75a",
            "b567af02d7684b6dbb69445eb483ab07",
            "03f7f3465af6414a8c699d18afe6af7b",
            "2dfb53e199b94d49b3c991f813f52a0c",
            "dead360d1bef42cdb3732ecb7e33248f",
            "4a6c98b5df4d42afaf7ca961f7853e64",
            "95634ec61b64434ca82700c7a4a7d619",
            "88088f769fd74694b8eb3731285fe51c",
            "1c0a4cdc9c094f94b963526d7526d8ca",
            "4cd66d65f7f24108a67faa338345389e",
            "b00291fd22af4be7a88570b050b6f031"
          ]
        },
        "outputId": "ee7d21d6-0e52-40cc-d64c-8f3b4c8e9dd0"
      },
      "source": [
        "from transformers import BertForSequenceClassification, AdamW, BertConfig\n",
        "\n",
        "model = BertForSequenceClassification.from_pretrained(\n",
        "    \"bert-base-uncased\",\n",
        "    num_labels = 2,\n",
        "    output_attentions = False,\n",
        "    output_hidden_states = False,\n",
        ")\n",
        "\n",
        "model.cuda()"
      ],
      "execution_count": null,
      "outputs": [
        {
          "output_type": "display_data",
          "data": {
            "application/vnd.jupyter.widget-view+json": {
              "model_id": "d2511d3189d64ff3918160a0f25eacf5",
              "version_minor": 0,
              "version_major": 2
            },
            "text/plain": [
              "HBox(children=(FloatProgress(value=0.0, description='Downloading', max=433.0, style=ProgressStyle(description_…"
            ]
          },
          "metadata": {
            "tags": []
          }
        },
        {
          "output_type": "stream",
          "text": [
            "\n"
          ],
          "name": "stdout"
        },
        {
          "output_type": "display_data",
          "data": {
            "application/vnd.jupyter.widget-view+json": {
              "model_id": "2dfb53e199b94d49b3c991f813f52a0c",
              "version_minor": 0,
              "version_major": 2
            },
            "text/plain": [
              "HBox(children=(FloatProgress(value=0.0, description='Downloading', max=440473133.0, style=ProgressStyle(descri…"
            ]
          },
          "metadata": {
            "tags": []
          }
        },
        {
          "output_type": "stream",
          "text": [
            "\n"
          ],
          "name": "stdout"
        },
        {
          "output_type": "stream",
          "text": [
            "Some weights of the model checkpoint at bert-base-uncased were not used when initializing BertForSequenceClassification: ['cls.predictions.bias', 'cls.predictions.transform.dense.weight', 'cls.predictions.transform.dense.bias', 'cls.predictions.decoder.weight', 'cls.seq_relationship.weight', 'cls.seq_relationship.bias', 'cls.predictions.transform.LayerNorm.weight', 'cls.predictions.transform.LayerNorm.bias']\n",
            "- This IS expected if you are initializing BertForSequenceClassification from the checkpoint of a model trained on another task or with another architecture (e.g. initializing a BertForSequenceClassification model from a BertForPretraining model).\n",
            "- This IS NOT expected if you are initializing BertForSequenceClassification from the checkpoint of a model that you expect to be exactly identical (initializing a BertForSequenceClassification model from a BertForSequenceClassification model).\n",
            "Some weights of BertForSequenceClassification were not initialized from the model checkpoint at bert-base-uncased and are newly initialized: ['classifier.weight', 'classifier.bias']\n",
            "You should probably TRAIN this model on a down-stream task to be able to use it for predictions and inference.\n"
          ],
          "name": "stderr"
        },
        {
          "output_type": "execute_result",
          "data": {
            "text/plain": [
              "BertForSequenceClassification(\n",
              "  (bert): BertModel(\n",
              "    (embeddings): BertEmbeddings(\n",
              "      (word_embeddings): Embedding(30522, 768, padding_idx=0)\n",
              "      (position_embeddings): Embedding(512, 768)\n",
              "      (token_type_embeddings): Embedding(2, 768)\n",
              "      (LayerNorm): LayerNorm((768,), eps=1e-12, elementwise_affine=True)\n",
              "      (dropout): Dropout(p=0.1, inplace=False)\n",
              "    )\n",
              "    (encoder): BertEncoder(\n",
              "      (layer): ModuleList(\n",
              "        (0): BertLayer(\n",
              "          (attention): BertAttention(\n",
              "            (self): BertSelfAttention(\n",
              "              (query): Linear(in_features=768, out_features=768, bias=True)\n",
              "              (key): Linear(in_features=768, out_features=768, bias=True)\n",
              "              (value): Linear(in_features=768, out_features=768, bias=True)\n",
              "              (dropout): Dropout(p=0.1, inplace=False)\n",
              "            )\n",
              "            (output): BertSelfOutput(\n",
              "              (dense): Linear(in_features=768, out_features=768, bias=True)\n",
              "              (LayerNorm): LayerNorm((768,), eps=1e-12, elementwise_affine=True)\n",
              "              (dropout): Dropout(p=0.1, inplace=False)\n",
              "            )\n",
              "          )\n",
              "          (intermediate): BertIntermediate(\n",
              "            (dense): Linear(in_features=768, out_features=3072, bias=True)\n",
              "          )\n",
              "          (output): BertOutput(\n",
              "            (dense): Linear(in_features=3072, out_features=768, bias=True)\n",
              "            (LayerNorm): LayerNorm((768,), eps=1e-12, elementwise_affine=True)\n",
              "            (dropout): Dropout(p=0.1, inplace=False)\n",
              "          )\n",
              "        )\n",
              "        (1): BertLayer(\n",
              "          (attention): BertAttention(\n",
              "            (self): BertSelfAttention(\n",
              "              (query): Linear(in_features=768, out_features=768, bias=True)\n",
              "              (key): Linear(in_features=768, out_features=768, bias=True)\n",
              "              (value): Linear(in_features=768, out_features=768, bias=True)\n",
              "              (dropout): Dropout(p=0.1, inplace=False)\n",
              "            )\n",
              "            (output): BertSelfOutput(\n",
              "              (dense): Linear(in_features=768, out_features=768, bias=True)\n",
              "              (LayerNorm): LayerNorm((768,), eps=1e-12, elementwise_affine=True)\n",
              "              (dropout): Dropout(p=0.1, inplace=False)\n",
              "            )\n",
              "          )\n",
              "          (intermediate): BertIntermediate(\n",
              "            (dense): Linear(in_features=768, out_features=3072, bias=True)\n",
              "          )\n",
              "          (output): BertOutput(\n",
              "            (dense): Linear(in_features=3072, out_features=768, bias=True)\n",
              "            (LayerNorm): LayerNorm((768,), eps=1e-12, elementwise_affine=True)\n",
              "            (dropout): Dropout(p=0.1, inplace=False)\n",
              "          )\n",
              "        )\n",
              "        (2): BertLayer(\n",
              "          (attention): BertAttention(\n",
              "            (self): BertSelfAttention(\n",
              "              (query): Linear(in_features=768, out_features=768, bias=True)\n",
              "              (key): Linear(in_features=768, out_features=768, bias=True)\n",
              "              (value): Linear(in_features=768, out_features=768, bias=True)\n",
              "              (dropout): Dropout(p=0.1, inplace=False)\n",
              "            )\n",
              "            (output): BertSelfOutput(\n",
              "              (dense): Linear(in_features=768, out_features=768, bias=True)\n",
              "              (LayerNorm): LayerNorm((768,), eps=1e-12, elementwise_affine=True)\n",
              "              (dropout): Dropout(p=0.1, inplace=False)\n",
              "            )\n",
              "          )\n",
              "          (intermediate): BertIntermediate(\n",
              "            (dense): Linear(in_features=768, out_features=3072, bias=True)\n",
              "          )\n",
              "          (output): BertOutput(\n",
              "            (dense): Linear(in_features=3072, out_features=768, bias=True)\n",
              "            (LayerNorm): LayerNorm((768,), eps=1e-12, elementwise_affine=True)\n",
              "            (dropout): Dropout(p=0.1, inplace=False)\n",
              "          )\n",
              "        )\n",
              "        (3): BertLayer(\n",
              "          (attention): BertAttention(\n",
              "            (self): BertSelfAttention(\n",
              "              (query): Linear(in_features=768, out_features=768, bias=True)\n",
              "              (key): Linear(in_features=768, out_features=768, bias=True)\n",
              "              (value): Linear(in_features=768, out_features=768, bias=True)\n",
              "              (dropout): Dropout(p=0.1, inplace=False)\n",
              "            )\n",
              "            (output): BertSelfOutput(\n",
              "              (dense): Linear(in_features=768, out_features=768, bias=True)\n",
              "              (LayerNorm): LayerNorm((768,), eps=1e-12, elementwise_affine=True)\n",
              "              (dropout): Dropout(p=0.1, inplace=False)\n",
              "            )\n",
              "          )\n",
              "          (intermediate): BertIntermediate(\n",
              "            (dense): Linear(in_features=768, out_features=3072, bias=True)\n",
              "          )\n",
              "          (output): BertOutput(\n",
              "            (dense): Linear(in_features=3072, out_features=768, bias=True)\n",
              "            (LayerNorm): LayerNorm((768,), eps=1e-12, elementwise_affine=True)\n",
              "            (dropout): Dropout(p=0.1, inplace=False)\n",
              "          )\n",
              "        )\n",
              "        (4): BertLayer(\n",
              "          (attention): BertAttention(\n",
              "            (self): BertSelfAttention(\n",
              "              (query): Linear(in_features=768, out_features=768, bias=True)\n",
              "              (key): Linear(in_features=768, out_features=768, bias=True)\n",
              "              (value): Linear(in_features=768, out_features=768, bias=True)\n",
              "              (dropout): Dropout(p=0.1, inplace=False)\n",
              "            )\n",
              "            (output): BertSelfOutput(\n",
              "              (dense): Linear(in_features=768, out_features=768, bias=True)\n",
              "              (LayerNorm): LayerNorm((768,), eps=1e-12, elementwise_affine=True)\n",
              "              (dropout): Dropout(p=0.1, inplace=False)\n",
              "            )\n",
              "          )\n",
              "          (intermediate): BertIntermediate(\n",
              "            (dense): Linear(in_features=768, out_features=3072, bias=True)\n",
              "          )\n",
              "          (output): BertOutput(\n",
              "            (dense): Linear(in_features=3072, out_features=768, bias=True)\n",
              "            (LayerNorm): LayerNorm((768,), eps=1e-12, elementwise_affine=True)\n",
              "            (dropout): Dropout(p=0.1, inplace=False)\n",
              "          )\n",
              "        )\n",
              "        (5): BertLayer(\n",
              "          (attention): BertAttention(\n",
              "            (self): BertSelfAttention(\n",
              "              (query): Linear(in_features=768, out_features=768, bias=True)\n",
              "              (key): Linear(in_features=768, out_features=768, bias=True)\n",
              "              (value): Linear(in_features=768, out_features=768, bias=True)\n",
              "              (dropout): Dropout(p=0.1, inplace=False)\n",
              "            )\n",
              "            (output): BertSelfOutput(\n",
              "              (dense): Linear(in_features=768, out_features=768, bias=True)\n",
              "              (LayerNorm): LayerNorm((768,), eps=1e-12, elementwise_affine=True)\n",
              "              (dropout): Dropout(p=0.1, inplace=False)\n",
              "            )\n",
              "          )\n",
              "          (intermediate): BertIntermediate(\n",
              "            (dense): Linear(in_features=768, out_features=3072, bias=True)\n",
              "          )\n",
              "          (output): BertOutput(\n",
              "            (dense): Linear(in_features=3072, out_features=768, bias=True)\n",
              "            (LayerNorm): LayerNorm((768,), eps=1e-12, elementwise_affine=True)\n",
              "            (dropout): Dropout(p=0.1, inplace=False)\n",
              "          )\n",
              "        )\n",
              "        (6): BertLayer(\n",
              "          (attention): BertAttention(\n",
              "            (self): BertSelfAttention(\n",
              "              (query): Linear(in_features=768, out_features=768, bias=True)\n",
              "              (key): Linear(in_features=768, out_features=768, bias=True)\n",
              "              (value): Linear(in_features=768, out_features=768, bias=True)\n",
              "              (dropout): Dropout(p=0.1, inplace=False)\n",
              "            )\n",
              "            (output): BertSelfOutput(\n",
              "              (dense): Linear(in_features=768, out_features=768, bias=True)\n",
              "              (LayerNorm): LayerNorm((768,), eps=1e-12, elementwise_affine=True)\n",
              "              (dropout): Dropout(p=0.1, inplace=False)\n",
              "            )\n",
              "          )\n",
              "          (intermediate): BertIntermediate(\n",
              "            (dense): Linear(in_features=768, out_features=3072, bias=True)\n",
              "          )\n",
              "          (output): BertOutput(\n",
              "            (dense): Linear(in_features=3072, out_features=768, bias=True)\n",
              "            (LayerNorm): LayerNorm((768,), eps=1e-12, elementwise_affine=True)\n",
              "            (dropout): Dropout(p=0.1, inplace=False)\n",
              "          )\n",
              "        )\n",
              "        (7): BertLayer(\n",
              "          (attention): BertAttention(\n",
              "            (self): BertSelfAttention(\n",
              "              (query): Linear(in_features=768, out_features=768, bias=True)\n",
              "              (key): Linear(in_features=768, out_features=768, bias=True)\n",
              "              (value): Linear(in_features=768, out_features=768, bias=True)\n",
              "              (dropout): Dropout(p=0.1, inplace=False)\n",
              "            )\n",
              "            (output): BertSelfOutput(\n",
              "              (dense): Linear(in_features=768, out_features=768, bias=True)\n",
              "              (LayerNorm): LayerNorm((768,), eps=1e-12, elementwise_affine=True)\n",
              "              (dropout): Dropout(p=0.1, inplace=False)\n",
              "            )\n",
              "          )\n",
              "          (intermediate): BertIntermediate(\n",
              "            (dense): Linear(in_features=768, out_features=3072, bias=True)\n",
              "          )\n",
              "          (output): BertOutput(\n",
              "            (dense): Linear(in_features=3072, out_features=768, bias=True)\n",
              "            (LayerNorm): LayerNorm((768,), eps=1e-12, elementwise_affine=True)\n",
              "            (dropout): Dropout(p=0.1, inplace=False)\n",
              "          )\n",
              "        )\n",
              "        (8): BertLayer(\n",
              "          (attention): BertAttention(\n",
              "            (self): BertSelfAttention(\n",
              "              (query): Linear(in_features=768, out_features=768, bias=True)\n",
              "              (key): Linear(in_features=768, out_features=768, bias=True)\n",
              "              (value): Linear(in_features=768, out_features=768, bias=True)\n",
              "              (dropout): Dropout(p=0.1, inplace=False)\n",
              "            )\n",
              "            (output): BertSelfOutput(\n",
              "              (dense): Linear(in_features=768, out_features=768, bias=True)\n",
              "              (LayerNorm): LayerNorm((768,), eps=1e-12, elementwise_affine=True)\n",
              "              (dropout): Dropout(p=0.1, inplace=False)\n",
              "            )\n",
              "          )\n",
              "          (intermediate): BertIntermediate(\n",
              "            (dense): Linear(in_features=768, out_features=3072, bias=True)\n",
              "          )\n",
              "          (output): BertOutput(\n",
              "            (dense): Linear(in_features=3072, out_features=768, bias=True)\n",
              "            (LayerNorm): LayerNorm((768,), eps=1e-12, elementwise_affine=True)\n",
              "            (dropout): Dropout(p=0.1, inplace=False)\n",
              "          )\n",
              "        )\n",
              "        (9): BertLayer(\n",
              "          (attention): BertAttention(\n",
              "            (self): BertSelfAttention(\n",
              "              (query): Linear(in_features=768, out_features=768, bias=True)\n",
              "              (key): Linear(in_features=768, out_features=768, bias=True)\n",
              "              (value): Linear(in_features=768, out_features=768, bias=True)\n",
              "              (dropout): Dropout(p=0.1, inplace=False)\n",
              "            )\n",
              "            (output): BertSelfOutput(\n",
              "              (dense): Linear(in_features=768, out_features=768, bias=True)\n",
              "              (LayerNorm): LayerNorm((768,), eps=1e-12, elementwise_affine=True)\n",
              "              (dropout): Dropout(p=0.1, inplace=False)\n",
              "            )\n",
              "          )\n",
              "          (intermediate): BertIntermediate(\n",
              "            (dense): Linear(in_features=768, out_features=3072, bias=True)\n",
              "          )\n",
              "          (output): BertOutput(\n",
              "            (dense): Linear(in_features=3072, out_features=768, bias=True)\n",
              "            (LayerNorm): LayerNorm((768,), eps=1e-12, elementwise_affine=True)\n",
              "            (dropout): Dropout(p=0.1, inplace=False)\n",
              "          )\n",
              "        )\n",
              "        (10): BertLayer(\n",
              "          (attention): BertAttention(\n",
              "            (self): BertSelfAttention(\n",
              "              (query): Linear(in_features=768, out_features=768, bias=True)\n",
              "              (key): Linear(in_features=768, out_features=768, bias=True)\n",
              "              (value): Linear(in_features=768, out_features=768, bias=True)\n",
              "              (dropout): Dropout(p=0.1, inplace=False)\n",
              "            )\n",
              "            (output): BertSelfOutput(\n",
              "              (dense): Linear(in_features=768, out_features=768, bias=True)\n",
              "              (LayerNorm): LayerNorm((768,), eps=1e-12, elementwise_affine=True)\n",
              "              (dropout): Dropout(p=0.1, inplace=False)\n",
              "            )\n",
              "          )\n",
              "          (intermediate): BertIntermediate(\n",
              "            (dense): Linear(in_features=768, out_features=3072, bias=True)\n",
              "          )\n",
              "          (output): BertOutput(\n",
              "            (dense): Linear(in_features=3072, out_features=768, bias=True)\n",
              "            (LayerNorm): LayerNorm((768,), eps=1e-12, elementwise_affine=True)\n",
              "            (dropout): Dropout(p=0.1, inplace=False)\n",
              "          )\n",
              "        )\n",
              "        (11): BertLayer(\n",
              "          (attention): BertAttention(\n",
              "            (self): BertSelfAttention(\n",
              "              (query): Linear(in_features=768, out_features=768, bias=True)\n",
              "              (key): Linear(in_features=768, out_features=768, bias=True)\n",
              "              (value): Linear(in_features=768, out_features=768, bias=True)\n",
              "              (dropout): Dropout(p=0.1, inplace=False)\n",
              "            )\n",
              "            (output): BertSelfOutput(\n",
              "              (dense): Linear(in_features=768, out_features=768, bias=True)\n",
              "              (LayerNorm): LayerNorm((768,), eps=1e-12, elementwise_affine=True)\n",
              "              (dropout): Dropout(p=0.1, inplace=False)\n",
              "            )\n",
              "          )\n",
              "          (intermediate): BertIntermediate(\n",
              "            (dense): Linear(in_features=768, out_features=3072, bias=True)\n",
              "          )\n",
              "          (output): BertOutput(\n",
              "            (dense): Linear(in_features=3072, out_features=768, bias=True)\n",
              "            (LayerNorm): LayerNorm((768,), eps=1e-12, elementwise_affine=True)\n",
              "            (dropout): Dropout(p=0.1, inplace=False)\n",
              "          )\n",
              "        )\n",
              "      )\n",
              "    )\n",
              "    (pooler): BertPooler(\n",
              "      (dense): Linear(in_features=768, out_features=768, bias=True)\n",
              "      (activation): Tanh()\n",
              "    )\n",
              "  )\n",
              "  (dropout): Dropout(p=0.1, inplace=False)\n",
              "  (classifier): Linear(in_features=768, out_features=2, bias=True)\n",
              ")"
            ]
          },
          "metadata": {
            "tags": []
          },
          "execution_count": 12
        }
      ]
    },
    {
      "cell_type": "code",
      "metadata": {
        "id": "ksEjPR0gTGij",
        "colab_type": "code",
        "colab": {
          "base_uri": "https://localhost:8080/",
          "height": 34
        },
        "outputId": "ed807a4a-2071-4988-8445-790cb6838833"
      },
      "source": [
        "import math\n",
        "from transformers import get_linear_schedule_with_warmup\n",
        "\n",
        "optimizer = AdamW(\n",
        "    model.parameters(),\n",
        "    lr = 2e-5,\n",
        "    eps = 1e-8,\n",
        ")\n",
        "\n",
        "epochs = 2\n",
        "updates_per_epoch = int(math.ceil(len(train_dataset) / batch_size))\n",
        "print(\"Updates per epoch:\", updates_per_epoch)\n",
        "total_steps = updates_per_epoch * epochs\n",
        "\n",
        "scheduler = get_linear_schedule_with_warmup(optimizer,\n",
        "                                            num_warmup_steps = 0,\n",
        "                                            num_training_steps = total_steps)"
      ],
      "execution_count": null,
      "outputs": [
        {
          "output_type": "stream",
          "text": [
            "Updates per epoch: 782\n"
          ],
          "name": "stdout"
        }
      ]
    },
    {
      "cell_type": "code",
      "metadata": {
        "id": "DA2WpAK4eyED",
        "colab_type": "code",
        "colab": {}
      },
      "source": [
        "import numpy as np\n",
        "import time\n",
        "import datetime\n",
        "\n",
        "def flat_hits(preds, labels):\n",
        "    pred_flat = np.argmax(preds, axis=1).flatten()\n",
        "    labels_flat = labels.flatten()\n",
        "    hits = np.sum(pred_flat == labels_flat)\n",
        "    return hits\n",
        "\n",
        "def flat_accuracy(preds, labels):\n",
        "    return flat_hits(preds, labels) / len(labels_flat)\n",
        "\n",
        "def format_time(elapsed):\n",
        "    elapsed_rounded = int(round(elapsed))\n",
        "    return str(datetime.timedelta(seconds=elapsed_rounded))"
      ],
      "execution_count": null,
      "outputs": []
    },
    {
      "cell_type": "code",
      "metadata": {
        "id": "-ig350iw_tgX",
        "colab_type": "code",
        "colab": {}
      },
      "source": [
        "def eval_model(model, dataloader):\n",
        "    model.eval()\n",
        "    total_eval_hits, total_eval_loss, n = 0, 0, 0\n",
        "    for batch in dataloader:\n",
        "        batch = tuple(t.to(device) for t in batch)\n",
        "        b_input_ids, b_input_mask, b_labels = batch\n",
        "        b_n = len(b_input_ids)\n",
        "        with torch.no_grad():\n",
        "            loss, logits = model(b_input_ids,\n",
        "                                token_type_ids=None,\n",
        "                                attention_mask=b_input_mask,\n",
        "                                labels=b_labels)\n",
        "        total_eval_loss += loss.item() * b_n\n",
        "        logits = logits.detach().cpu().numpy()\n",
        "        label_ids = b_labels.to(\"cpu\").numpy()\n",
        "        total_eval_hits += flat_hits(logits, label_ids)\n",
        "        n += b_n\n",
        "    avg_eval_accuracy = total_eval_hits / n\n",
        "    avg_eval_loss = total_eval_loss / n\n",
        "    return {\n",
        "        \"avg_accuracy\": avg_eval_accuracy,\n",
        "        \"avg_loss\": avg_eval_loss,\n",
        "    }"
      ],
      "execution_count": null,
      "outputs": []
    },
    {
      "cell_type": "code",
      "metadata": {
        "id": "L_XWgomkfUQw",
        "colab_type": "code",
        "colab": {
          "base_uri": "https://localhost:8080/",
          "height": 612
        },
        "outputId": "f838408b-d3f3-4f3c-9686-4ff1f4bb731e"
      },
      "source": [
        "import random\n",
        "\n",
        "seed_val = 43\n",
        "\n",
        "random.seed(seed_val)\n",
        "np.random.seed(seed_val)\n",
        "torch.manual_seed(seed_val)\n",
        "torch.cuda.manual_seed_all(seed_val)\n",
        "\n",
        "training_stats = []\n",
        "total_t0 = time.time()\n",
        "\n",
        "for epoch_i in range(epochs):\n",
        "    print(\"\")\n",
        "    print(\"===== Epoch {:} / {:} =====\".format(epoch_i + 1, epochs))\n",
        "    print(\"Training...\")\n",
        "    t0 = time.time()\n",
        "    \n",
        "    total_train_loss = 0\n",
        "    agg_loss = 0.0\n",
        "    num_updates = 0\n",
        "    optimizer.zero_grad()\n",
        "    model.train()\n",
        "    for step, batch in enumerate(train_dataloader):\n",
        "        if step % 400 == 0 and step != 0:\n",
        "            elapsed = format_time(time.time() - t0)\n",
        "            print(\"Batch {:>5,} of {:>5,}. Elapsed: {:}\".format(step, len(train_dataloader), elapsed))\n",
        "        # batch = tuple(t.to(device) for t in batch)\n",
        "        # b_input_ids, b_input_mask, b_labels = batch\n",
        "        b_input_ids = batch[0].to(device)\n",
        "        b_input_mask = batch[1].to(device)\n",
        "        b_labels = batch[2].to(device) \n",
        "\n",
        "        \n",
        "        loss, _ = model(b_input_ids,\n",
        "                            token_type_ids=None,\n",
        "                            attention_mask=b_input_mask,\n",
        "                            labels=b_labels)\n",
        "        loss.backward()\n",
        "        agg_loss += loss\n",
        "\n",
        "        total_train_loss += loss.item()\n",
        "        if (step + 1) % num_steps_before_update == 0 or (step + 1) == len(train_dataloader):\n",
        "            num_updates += 1\n",
        "            optimizer.step()\n",
        "            optimizer.zero_grad()\n",
        "            scheduler.step()\n",
        "\n",
        "    avg_train_loss = total_train_loss / len(train_dataloader)\n",
        "    training_time = format_time(time.time() - t0)\n",
        "\n",
        "    print(\"Num updates {}, expected updates {}\".format(num_updates, updates_per_epoch))\n",
        "    print(\"Average training loss: {}\".format(avg_train_loss))\n",
        "    print(\"Training Epoch took: {:}\".format(training_time))\n",
        "\n",
        "    t0 = time.time()\n",
        "\n",
        "    eval_results = eval_model(model, validation_dataloader)\n",
        "    avg_eval_accuracy = eval_results[\"avg_accuracy\"]\n",
        "    avg_eval_loss = eval_results[\"avg_loss\"]\n",
        "    validation_time = format_time(time.time() - t0)\n",
        "\n",
        "    print(\"Validation accuracy: {0:.2f}\".format(avg_eval_accuracy))\n",
        "    print(\"Validation loss: {}\".format(avg_eval_loss))\n",
        "    print(\"Validation took: {:}\".format(validation_time))\n",
        "\n",
        "    training_stats.append({\n",
        "        \"epoch\": epoch_i + 1,\n",
        "        \"training_loss\": avg_train_loss,\n",
        "        \"validation_loss\": avg_eval_loss,\n",
        "        \"validation_acc\": avg_eval_accuracy,\n",
        "        \"training_time\": training_time,\n",
        "        \"validation_time\": validation_time,\n",
        "    })\n",
        "\n",
        "print(\"\")\n",
        "print(\"Training Complete\")\n",
        "print(\"Training took: {:} (h:mm:ss)\".format(format_time(time.time() - total_t0)))"
      ],
      "execution_count": null,
      "outputs": [
        {
          "output_type": "stream",
          "text": [
            "\n",
            "===== Epoch 1 / 2 =====\n",
            "Training...\n",
            "Batch   400 of 3,125. Elapsed: 0:02:48\n",
            "Batch   800 of 3,125. Elapsed: 0:05:35\n",
            "Batch 1,200 of 3,125. Elapsed: 0:08:22\n",
            "Batch 1,600 of 3,125. Elapsed: 0:11:09\n",
            "Batch 2,000 of 3,125. Elapsed: 0:13:56\n",
            "Batch 2,400 of 3,125. Elapsed: 0:16:44\n",
            "Batch 2,800 of 3,125. Elapsed: 0:19:31\n",
            "Num updates 782, expected updates 782\n",
            "Average training loss: 0.23296988146662712\n",
            "Training Epoch took: 0:21:47\n",
            "Validation accuracy: 1.00\n",
            "Validation loss: 0.025751471519470215\n",
            "Validation took: 0:00:00\n",
            "\n",
            "===== Epoch 2 / 2 =====\n",
            "Training...\n",
            "Batch   400 of 3,125. Elapsed: 0:02:48\n",
            "Batch   800 of 3,125. Elapsed: 0:05:35\n",
            "Batch 1,200 of 3,125. Elapsed: 0:08:23\n",
            "Batch 1,600 of 3,125. Elapsed: 0:11:10\n",
            "Batch 2,000 of 3,125. Elapsed: 0:13:57\n",
            "Batch 2,400 of 3,125. Elapsed: 0:16:44\n",
            "Batch 2,800 of 3,125. Elapsed: 0:19:31\n",
            "Num updates 782, expected updates 782\n",
            "Average training loss: 0.11287761781454086\n",
            "Training Epoch took: 0:21:47\n",
            "Validation accuracy: 1.00\n",
            "Validation loss: 0.012184381484985352\n",
            "Validation took: 0:00:00\n",
            "\n",
            "Training Complete\n",
            "Training took: 0:43:34 (h:mm:ss)\n"
          ],
          "name": "stdout"
        }
      ]
    },
    {
      "cell_type": "code",
      "metadata": {
        "id": "l9PHEbSEoiWm",
        "colab_type": "code",
        "colab": {
          "base_uri": "https://localhost:8080/",
          "height": 142
        },
        "outputId": "a77d9f9d-1cb3-4775-9ca7-ee884fdbf7ae"
      },
      "source": [
        "pd.set_option(\"precision\", 4)\n",
        "df_stats = pd.DataFrame(data=training_stats)\n",
        "df_stats = df_stats.set_index(\"epoch\")\n",
        "df_stats"
      ],
      "execution_count": null,
      "outputs": [
        {
          "output_type": "execute_result",
          "data": {
            "text/html": [
              "<div>\n",
              "<style scoped>\n",
              "    .dataframe tbody tr th:only-of-type {\n",
              "        vertical-align: middle;\n",
              "    }\n",
              "\n",
              "    .dataframe tbody tr th {\n",
              "        vertical-align: top;\n",
              "    }\n",
              "\n",
              "    .dataframe thead th {\n",
              "        text-align: right;\n",
              "    }\n",
              "</style>\n",
              "<table border=\"1\" class=\"dataframe\">\n",
              "  <thead>\n",
              "    <tr style=\"text-align: right;\">\n",
              "      <th></th>\n",
              "      <th>training_loss</th>\n",
              "      <th>validation_loss</th>\n",
              "      <th>validation_acc</th>\n",
              "      <th>training_time</th>\n",
              "      <th>validation_time</th>\n",
              "    </tr>\n",
              "    <tr>\n",
              "      <th>epoch</th>\n",
              "      <th></th>\n",
              "      <th></th>\n",
              "      <th></th>\n",
              "      <th></th>\n",
              "      <th></th>\n",
              "    </tr>\n",
              "  </thead>\n",
              "  <tbody>\n",
              "    <tr>\n",
              "      <th>1</th>\n",
              "      <td>0.2330</td>\n",
              "      <td>0.0258</td>\n",
              "      <td>1.0</td>\n",
              "      <td>0:21:47</td>\n",
              "      <td>0:00:00</td>\n",
              "    </tr>\n",
              "    <tr>\n",
              "      <th>2</th>\n",
              "      <td>0.1129</td>\n",
              "      <td>0.0122</td>\n",
              "      <td>1.0</td>\n",
              "      <td>0:21:47</td>\n",
              "      <td>0:00:00</td>\n",
              "    </tr>\n",
              "  </tbody>\n",
              "</table>\n",
              "</div>"
            ],
            "text/plain": [
              "       training_loss  validation_loss  ...  training_time validation_time\n",
              "epoch                                  ...                               \n",
              "1             0.2330           0.0258  ...        0:21:47         0:00:00\n",
              "2             0.1129           0.0122  ...        0:21:47         0:00:00\n",
              "\n",
              "[2 rows x 5 columns]"
            ]
          },
          "metadata": {
            "tags": []
          },
          "execution_count": 17
        }
      ]
    },
    {
      "cell_type": "code",
      "metadata": {
        "id": "fOZOTc2o2Jwl",
        "colab_type": "code",
        "colab": {
          "base_uri": "https://localhost:8080/",
          "height": 281
        },
        "outputId": "4f554f06-f348-4d5d-fe38-22d82723243d"
      },
      "source": [
        "import matplotlib.pyplot as plt\n",
        "%matplotlib inline\n",
        "\n",
        "plt.plot(df_stats[\"training_loss\"], \"b-o\", label=\"Training\")\n",
        "plt.plot(df_stats[\"validation_loss\"], \"g-o\", label=\"Validation\")\n",
        "\n",
        "plt.title(\"Training & Validation Loss\")\n",
        "plt.legend()\n",
        "\n",
        "plt.xticks(np.arange(1, len(df_stats)+1, dtype=int))\n",
        "plt.show()"
      ],
      "execution_count": null,
      "outputs": [
        {
          "output_type": "display_data",
          "data": {
            "image/png": "[encoded data removed]",
            "text/plain": [
              "<Figure size 432x288 with 1 Axes>"
            ]
          },
          "metadata": {
            "tags": [],
            "needs_background": "light"
          }
        }
      ]
    },
    {
      "cell_type": "markdown",
      "metadata": {
        "id": "0lqLGv_-_OU8",
        "colab_type": "text"
      },
      "source": [
        "Evaluate Test Dataset\n"
      ]
    },
    {
      "cell_type": "code",
      "metadata": {
        "id": "yPRg6QnF-va-",
        "colab_type": "code",
        "colab": {}
      },
      "source": [
        "test_dataset = TensorDataset(*encode_df(test_df))\n",
        "\n",
        "test_dataloader = DataLoader(test_dataset, batch_size=batch_size)"
      ],
      "execution_count": null,
      "outputs": []
    },
    {
      "cell_type": "code",
      "metadata": {
        "id": "PB5tTZEQ_NQ0",
        "colab_type": "code",
        "colab": {
          "base_uri": "https://localhost:8080/",
          "height": 68
        },
        "outputId": "b62670d2-6db6-41f0-d2a9-bc26c54e997f"
      },
      "source": [
        "t0 = time.time()\n",
        "\n",
        "test_results = eval_model(model, test_dataloader)\n",
        "avg_test_accuracy = test_results[\"avg_accuracy\"]\n",
        "avg_test_loss = test_results[\"avg_loss\"]\n",
        "test_time = format_time(time.time() - t0)\n",
        "\n",
        "print(\"Test accuracy: {0:.4f}\".format(avg_test_accuracy))\n",
        "print(\"Test loss: {}\".format(avg_test_loss))\n",
        "print(\"Testing took: {:}\".format(test_time))"
      ],
      "execution_count": null,
      "outputs": [
        {
          "output_type": "stream",
          "text": [
            "Test accuracy: 0.9406\n",
            "Test loss: 0.16848376241445542\n",
            "Testing took: 0:06:41\n"
          ],
          "name": "stdout"
        }
      ]
    },
    {
      "cell_type": "code",
      "metadata": {
        "id": "ktOsmqI04Xcc",
        "colab_type": "code",
        "colab": {
          "base_uri": "https://localhost:8080/",
          "height": 85
        },
        "outputId": "0e2fe091-c976-4bc9-c5cb-ca51fafee97d"
      },
      "source": [
        "import os\n",
        "\n",
        "output_dir = folder + \"model_checkpoint_final/\"\n",
        "\n",
        "if not os.path.exists(output_dir):\n",
        "    os.makedirs(output_dir)\n",
        "\n",
        "print(\"Saving Model to:\", output_dir)\n",
        "\n",
        "model_to_save = model.module if hasattr(model, \"module\") else model\n",
        "model_to_save.save_pretrained(output_dir)\n",
        "tokenizer.save_pretrained(output_dir)"
      ],
      "execution_count": null,
      "outputs": [
        {
          "output_type": "stream",
          "text": [
            "Saving Model to: drive/My Drive/dl_data/model_checkpoint_final/\n"
          ],
          "name": "stdout"
        },
        {
          "output_type": "execute_result",
          "data": {
            "text/plain": [
              "('drive/My Drive/dl_data/model_checkpoint_final/vocab.txt',\n",
              " 'drive/My Drive/dl_data/model_checkpoint_final/special_tokens_map.json',\n",
              " 'drive/My Drive/dl_data/model_checkpoint_final/added_tokens.json')"
            ]
          },
          "metadata": {
            "tags": []
          },
          "execution_count": 25
        }
      ]
    },
    {
      "cell_type": "code",
      "metadata": {
        "id": "SUe5gZbW5L2k",
        "colab_type": "code",
        "colab": {
          "base_uri": "https://localhost:8080/",
          "height": 119
        },
        "outputId": "d252d091-fc10-4a21-e150-47de7111b5ab"
      },
      "source": [
        "os.environ[\"OUTPUT_DIR\"] = output_dir\n",
        "!ls -l --block-size=K \"$OUTPUT_DIR\""
      ],
      "execution_count": null,
      "outputs": [
        {
          "output_type": "stream",
          "text": [
            "total 427947K\n",
            "-rw------- 1 root root      1K Jul 23 15:23 config.json\n",
            "-rw------- 1 root root 427719K Jul 23 15:23 pytorch_model.bin\n",
            "-rw------- 1 root root      1K Jul 23 15:23 special_tokens_map.json\n",
            "-rw------- 1 root root      1K Jul 23 15:23 tokenizer_config.json\n",
            "-rw------- 1 root root    227K Jul 23 15:23 vocab.txt\n"
          ],
          "name": "stdout"
        }
      ]
    },
    {
      "cell_type": "code",
      "metadata": {
        "id": "mwGQTN5W6Wdu",
        "colab_type": "code",
        "colab": {}
      },
      "source": [
        "# Load Model\n",
        "\n",
        "model = BertForSequenceClassification.from_pretrained(output_dir)\n",
        "tokenizer = BertTokenizer.from_pretrained(output_dir)\n",
        "\n",
        "model.to(device)"
      ],
      "execution_count": null,
      "outputs": []
    }
  ]
}